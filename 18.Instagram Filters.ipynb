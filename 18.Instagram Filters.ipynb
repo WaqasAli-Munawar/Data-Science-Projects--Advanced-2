{
 "cells": [
  {
   "cell_type": "markdown",
   "metadata": {
    "id": "b74pMNJPM7He"
   },
   "source": [
    "We must have used [Instagram](https://www.instagram.com/) once in our life. Have we noticed a variety of Instagram filters when uploading an image? \n",
    "\n",
    "These filters are designed to improve the quality of the image and its an example of complex machine learning algorithms that are deployed in production to serve Instagram. So if these filters are created by machine learning algorithms, it means that we can also create Instagram filters with Python."
   ]
  },
  {
   "cell_type": "markdown",
   "metadata": {
    "id": "iqHFtg6hM7Hh"
   },
   "source": [
    "In this file, we’ll create beautiful Instagram filters using machine learning. The biggest advantage of using such popular language like Python is that we will get packages for almost every task."
   ]
  },
  {
   "cell_type": "markdown",
   "metadata": {
    "id": "isp1FPrVM7Hj"
   },
   "source": [
    "### Creating Instagram Filters \n",
    "\n",
    "While building a neural network to create Instagram filters is a complex task. In this file, we will use the Instafilter library in Python which will help us to use Instagram filters."
   ]
  },
  {
   "cell_type": "code",
   "execution_count": 2,
   "metadata": {
    "colab": {
     "base_uri": "https://localhost:8080/"
    },
    "id": "0sonYnQMM7Hl",
    "outputId": "6c4093d9-f3cf-431b-b4ed-ee912a85ed75"
   },
   "outputs": [
    {
     "name": "stdout",
     "output_type": "stream",
     "text": [
      "Collecting instafilter\n",
      "  Downloading instafilter-0.3.1.tar.gz (259 kB)\n",
      "\u001b[?25l\r",
      "\u001b[K     |█▎                              | 10 kB 24.6 MB/s eta 0:00:01\r",
      "\u001b[K     |██▌                             | 20 kB 30.3 MB/s eta 0:00:01\r",
      "\u001b[K     |███▉                            | 30 kB 33.8 MB/s eta 0:00:01\r",
      "\u001b[K     |█████                           | 40 kB 30.6 MB/s eta 0:00:01\r",
      "\u001b[K     |██████▎                         | 51 kB 15.9 MB/s eta 0:00:01\r",
      "\u001b[K     |███████▋                        | 61 kB 17.1 MB/s eta 0:00:01\r",
      "\u001b[K     |████████▉                       | 71 kB 11.8 MB/s eta 0:00:01\r",
      "\u001b[K     |██████████                      | 81 kB 13.0 MB/s eta 0:00:01\r",
      "\u001b[K     |███████████▍                    | 92 kB 12.2 MB/s eta 0:00:01\r",
      "\u001b[K     |████████████▋                   | 102 kB 13.2 MB/s eta 0:00:01\r",
      "\u001b[K     |██████████████                  | 112 kB 13.2 MB/s eta 0:00:01\r",
      "\u001b[K     |███████████████▏                | 122 kB 13.2 MB/s eta 0:00:01\r",
      "\u001b[K     |████████████████▍               | 133 kB 13.2 MB/s eta 0:00:01\r",
      "\u001b[K     |█████████████████▊              | 143 kB 13.2 MB/s eta 0:00:01\r",
      "\u001b[K     |███████████████████             | 153 kB 13.2 MB/s eta 0:00:01\r",
      "\u001b[K     |████████████████████▏           | 163 kB 13.2 MB/s eta 0:00:01\r",
      "\u001b[K     |█████████████████████▌          | 174 kB 13.2 MB/s eta 0:00:01\r",
      "\u001b[K     |██████████████████████▊         | 184 kB 13.2 MB/s eta 0:00:01\r",
      "\u001b[K     |████████████████████████        | 194 kB 13.2 MB/s eta 0:00:01\r",
      "\u001b[K     |█████████████████████████▎      | 204 kB 13.2 MB/s eta 0:00:01\r",
      "\u001b[K     |██████████████████████████▌     | 215 kB 13.2 MB/s eta 0:00:01\r",
      "\u001b[K     |███████████████████████████▉    | 225 kB 13.2 MB/s eta 0:00:01\r",
      "\u001b[K     |█████████████████████████████   | 235 kB 13.2 MB/s eta 0:00:01\r",
      "\u001b[K     |██████████████████████████████▎ | 245 kB 13.2 MB/s eta 0:00:01\r",
      "\u001b[K     |███████████████████████████████▋| 256 kB 13.2 MB/s eta 0:00:01\r",
      "\u001b[K     |████████████████████████████████| 259 kB 13.2 MB/s \n",
      "\u001b[?25hRequirement already satisfied: numpy in /usr/local/lib/python3.7/dist-packages (from instafilter) (1.19.5)\n",
      "Requirement already satisfied: torch in /usr/local/lib/python3.7/dist-packages (from instafilter) (1.9.0+cu102)\n",
      "Requirement already satisfied: opencv-python in /usr/local/lib/python3.7/dist-packages (from instafilter) (4.1.2.30)\n",
      "Requirement already satisfied: typing-extensions in /usr/local/lib/python3.7/dist-packages (from torch->instafilter) (3.7.4.3)\n",
      "Building wheels for collected packages: instafilter\n",
      "  Building wheel for instafilter (setup.py) ... \u001b[?25l\u001b[?25hdone\n",
      "  Created wheel for instafilter: filename=instafilter-0.3.1-py3-none-any.whl size=292567 sha256=17dc3ff6d2194673e7588f9ee17b60939190743cc54e057b9c0199cc3e7e6848\n",
      "  Stored in directory: /root/.cache/pip/wheels/9c/e0/92/a030fb95f65209e06f334b50ff607e01dd214f735c609b36ee\n",
      "Successfully built instafilter\n",
      "Installing collected packages: instafilter\n",
      "Successfully installed instafilter-0.3.1\n"
     ]
    }
   ],
   "source": [
    "!pip install instafilter "
   ]
  },
  {
   "cell_type": "markdown",
   "metadata": {
    "id": "bt3YtE45M7Hm"
   },
   "source": [
    "The other library we need for creating Instagram filters is the **Open Source Computer Vision Library** of Python which is **OpenCV**. If we have never worked with OpenCV, we can easily install it by using a **pip command – pip install opencv-python**. To use OpenCV we do not import it by the same name, we import it by the name of **cv2 (import cv2)**. Let’s create Instagram filters with Python:"
   ]
  },
  {
   "cell_type": "code",
   "execution_count": 3,
   "metadata": {
    "id": "sTg6DcTRM7Hn"
   },
   "outputs": [],
   "source": [
    "from instafilter import Instafilter\n",
    "\n",
    "model = Instafilter(\"Lo-Fi\") # Lo-Fi is an instagram filter. We can use other filters as well\n",
    "new_image = model(\"instagram.jpg\")"
   ]
  },
  {
   "cell_type": "markdown",
   "metadata": {},
   "source": [
    "We can find instagrm filters from [here](https://designlink.work/instagram-css/)"
   ]
  },
  {
   "cell_type": "code",
   "execution_count": 4,
   "metadata": {
    "colab": {
     "base_uri": "https://localhost:8080/"
    },
    "id": "Mi0AXB01M7Ho",
    "outputId": "8dce1bda-1c8c-45c7-b119-c56f85e958a8"
   },
   "outputs": [
    {
     "data": {
      "text/plain": [
       "True"
      ]
     },
     "execution_count": 4,
     "metadata": {},
     "output_type": "execute_result"
    }
   ],
   "source": [
    "# To save the image, use cv2\n",
    "import cv2\n",
    "cv2.imwrite(\"modified_image.jpg\", new_image)"
   ]
  },
  {
   "cell_type": "code",
   "execution_count": 1,
   "metadata": {
    "id": "wDvbj5lUNpmO"
   },
   "outputs": [],
   "source": []
  }
 ],
 "metadata": {
  "accelerator": "GPU",
  "colab": {
   "name": "18.Instagram Filters.ipynb",
   "provenance": []
  },
  "kernelspec": {
   "display_name": "Python 3",
   "language": "python",
   "name": "python3"
  },
  "language_info": {
   "codemirror_mode": {
    "name": "ipython",
    "version": 3
   },
   "file_extension": ".py",
   "mimetype": "text/x-python",
   "name": "python",
   "nbconvert_exporter": "python",
   "pygments_lexer": "ipython3",
   "version": "3.7.6"
  }
 },
 "nbformat": 4,
 "nbformat_minor": 1
}
