{
 "cells": [
  {
   "cell_type": "markdown",
   "metadata": {},
   "source": [
    "The most likely way for attackers to gain access to our infrastructure is through the network. Network security is the general practice of protecting computer networks and devices accessible to the network against malicious intent, misuse and denial. In this file, we will perform Network Security Analysis with Machine Learning."
   ]
  },
  {
   "cell_type": "markdown",
   "metadata": {},
   "source": [
    "Exploring patterns is one of the main strengths of machine learning, and there are many inherent patterns to discover in the network traffic data. At first glance, network packet capture data may appear sporadic and random, but most communication flows follow strict network protocol.\n",
    "\n",
    "Live network data capture is the primary way to record network activity for online or offline analysis. Like a CCTV camera at a traffic intersection, packet analyzers intercept and record network traffic. Now let’s create a network attack classifier from scratch using machine learning.\n",
    "\n",
    "### Building a Predictive Model to Classify Network Security Attacks\n",
    "The dataset we will be using is the **NSLKDD** dataset, which is an improvement over traditional network intrusion detection. This dataset widely used by security data science professionals to classify problems of Network Security. You can download the dataset from [here](https://www.kaggle.com/hassan06/nslkdd). Let’s start this task by importing some necessary libraries:"
   ]
  },
  {
   "cell_type": "code",
   "execution_count": 1,
   "metadata": {},
   "outputs": [],
   "source": [
    "import os\n",
    "from collections import defaultdict\n",
    "import pandas as pd\n",
    "import numpy as np\n",
    "import matplotlib.pyplot as plt"
   ]
  },
  {
   "cell_type": "markdown",
   "metadata": {},
   "source": [
    "Let’s look at the preliminary data to get some insight into the data. Let’s take a look at the breakdown of categories first:"
   ]
  },
  {
   "cell_type": "code",
   "execution_count": 2,
   "metadata": {},
   "outputs": [],
   "source": [
    "dataset_root = './nsl-kdd'\n",
    "train_file = os.path.join(dataset_root, 'KDDTrain+.txt')\n",
    "test_file = os.path.join(dataset_root, 'KDDTest+.txt')\n",
    "header_names = ['duration', 'protocol_type', 'service', 'flag', \n",
    "                'src_bytes', 'dst_bytes', 'land', 'wrong_fragment',\n",
    "                'urgent', 'hot', 'num_failed_logins', 'logged_in',\n",
    "                'num_compromised', 'root_shell', 'su_attempted', \n",
    "                'num_root', 'num_file_creations', 'num_shells', \n",
    "                'num_access_files', 'num_outbound_cmds', \n",
    "                'is_host_login', 'is_guest_login', 'count', \n",
    "                'srv_count', 'serror_rate', 'srv_serror_rate', \n",
    "                'rerror_rate', 'srv_rerror_rate', 'same_srv_rate',\n",
    "                'diff_srv_rate', 'srv_diff_host_rate', \n",
    "                'dst_host_count', 'dst_host_srv_count', \n",
    "                'dst_host_same_srv_rate', 'dst_host_diff_srv_rate',\n",
    "                'dst_host_same_src_port_rate', 'dst_host_srv_diff_host_rate',\n",
    "                'dst_host_serror_rate', 'dst_host_srv_serror_rate', \n",
    "                'dst_host_rerror_rate', 'dst_host_srv_rerror_rate', \n",
    "                'attack_type', 'success_pred']\n",
    "col_names = np.array(header_names)"
   ]
  },
  {
   "cell_type": "code",
   "execution_count": 7,
   "metadata": {},
   "outputs": [],
   "source": [
    "nominal_idx = [1, 2, 3]\n",
    "binary_idx = [6, 11, 13, 14, 20, 21]\n",
    "numeric_idx = list(set(range(41)).difference(nominal_idx).difference(binary_idx))\n",
    "\n",
    "nominal_cols = col_names[nominal_idx].tolist()\n",
    "binary_cols = col_names[binary_idx].tolist()\n",
    "numeric_cols = col_names[numeric_idx].tolist()\n",
    "category = defaultdict(list)\n",
    "category['benign'].append('normal')"
   ]
  },
  {
   "cell_type": "code",
   "execution_count": 12,
   "metadata": {},
   "outputs": [],
   "source": [
    "with open('./nsl-kdd/training_attack_types.txt', 'r') as f:\n",
    "    for line in f.readlines():\n",
    "        split = line.strip().split(\" \")\n",
    "        if len(split) == 2:\n",
    "            attack, cat = line.strip().split(' ')\n",
    "            category[cat].append(attack)"
   ]
  },
  {
   "cell_type": "code",
   "execution_count": 13,
   "metadata": {},
   "outputs": [
    {
     "data": {
      "text/plain": [
       "{'normal': 'benign',\n",
       " 'back': 'dos',\n",
       " 'land': 'dos',\n",
       " 'neptune': 'dos',\n",
       " 'pod': 'dos',\n",
       " 'smurf': 'dos',\n",
       " 'teardrop': 'dos',\n",
       " 'buffer_overflow': 'u2r',\n",
       " 'loadmodule': 'u2r',\n",
       " 'perl': 'u2r',\n",
       " 'rootkit': 'u2r',\n",
       " 'ftp_write': 'r2l',\n",
       " 'guess_passwd': 'r2l',\n",
       " 'imap': 'r2l',\n",
       " 'multihop': 'r2l',\n",
       " 'phf': 'r2l',\n",
       " 'spy': 'r2l',\n",
       " 'warezclient': 'r2l',\n",
       " 'warezmaster': 'r2l',\n",
       " 'ipsweep': 'probe',\n",
       " 'nmap': 'probe',\n",
       " 'portsweep': 'probe',\n",
       " 'satan': 'probe'}"
      ]
     },
     "execution_count": 13,
     "metadata": {},
     "output_type": "execute_result"
    }
   ],
   "source": [
    "attack_mapping = dict((v,k) for k in category for v in category[k])\n",
    "attack_mapping"
   ]
  },
  {
   "cell_type": "markdown",
   "metadata": {},
   "source": [
    "Now, here is the data that we will be using:"
   ]
  },
  {
   "cell_type": "code",
   "execution_count": 17,
   "metadata": {},
   "outputs": [
    {
     "name": "stdout",
     "output_type": "stream",
     "text": [
      "found\n",
      "found\n",
      "found\n",
      "found\n",
      "found\n",
      "found\n",
      "found\n",
      "found\n",
      "found\n",
      "found\n",
      "found\n",
      "found\n",
      "found\n",
      "found\n",
      "found\n",
      "found\n",
      "found\n",
      "found\n",
      "found\n",
      "found\n",
      "found\n",
      "found\n",
      "found\n"
     ]
    }
   ],
   "source": [
    "for i in train_df['attack_type'].unique():\n",
    "    if i in attack_mapping:\n",
    "        print(\"found\")\n",
    "    else:\n",
    "        print(\"not found\")"
   ]
  },
  {
   "cell_type": "code",
   "execution_count": 18,
   "metadata": {},
   "outputs": [],
   "source": [
    "train_df = pd.read_csv(train_file, names=header_names)\n",
    "train_df['attack_category'] = train_df['attack_type'].map(attack_mapping)\n",
    "train_df.drop(['success_pred'], axis=1, inplace=True)"
   ]
  },
  {
   "cell_type": "code",
   "execution_count": 19,
   "metadata": {},
   "outputs": [],
   "source": [
    "test_df = pd.read_csv(test_file, names=header_names)\n",
    "test_df['attack_category'] = test_df['attack_type'].map(attack_mapping)\n",
    "test_df.drop(['success_pred'], axis=1, inplace=True)\n",
    "train_attack_types = train_df['attack_type'].value_counts()\n",
    "train_attack_cats = train_df['attack_category'].value_counts()\n",
    "test_attack_types = test_df['attack_type'].value_counts()\n",
    "test_attack_cats = test_df['attack_category'].value_counts()"
   ]
  },
  {
   "cell_type": "code",
   "execution_count": 21,
   "metadata": {},
   "outputs": [
    {
     "data": {
      "image/png": "[encoded data removed]",
      "text/plain": [
       "<Figure size 1440x720 with 1 Axes>"
      ]
     },
     "metadata": {
      "needs_background": "light"
     },
     "output_type": "display_data"
    }
   ],
   "source": [
    "train_attack_types.plot(kind='barh', figsize=(20,10), fontsize=20)\n",
    "plt.show()"
   ]
  },
  {
   "cell_type": "code",
   "execution_count": 23,
   "metadata": {},
   "outputs": [
    {
     "data": {
      "image/png": "[encoded data removed]",
      "text/plain": [
       "<Figure size 1440x720 with 1 Axes>"
      ]
     },
     "metadata": {
      "needs_background": "light"
     },
     "output_type": "display_data"
    }
   ],
   "source": [
    "train_attack_cats.plot(kind='barh', figsize=(20,10), fontsize=30)\n",
    "plt.show()"
   ]
  },
  {
   "cell_type": "markdown",
   "metadata": {},
   "source": [
    "### Data Preparation\n",
    "The NSL-KDD dataset is a useful dataset for education and experimentation with data mining and machine learning classification because it strikes a balance between simplicity and sophistication.\n",
    "\n",
    "Let’s start by splitting the test and training DataFrames into data and labels:"
   ]
  },
  {
   "cell_type": "code",
   "execution_count": 24,
   "metadata": {},
   "outputs": [],
   "source": [
    "train_Y = train_df['attack_category']\n",
    "train_x_raw = train_df.drop(['attack_category','attack_type'], axis=1)\n",
    "test_Y = test_df['attack_category']\n",
    "test_x_raw = test_df.drop(['attack_category','attack_type'], axis=1)"
   ]
  },
  {
   "cell_type": "markdown",
   "metadata": {},
   "source": [
    "In typical cases, we will have complete knowledge of all categorical variables either because we defined them or because the dataset provided this information. In this case of Network Security Analysis, the dataset is not provided with a list of possible values of each categorical variable, so we can preprocess as follows:"
   ]
  },
  {
   "cell_type": "code",
   "execution_count": 25,
   "metadata": {},
   "outputs": [],
   "source": [
    "combined_df_raw = pd.concat([train_x_raw, test_x_raw])\n",
    "combined_df = pd.get_dummies(combined_df_raw, columns=nominal_cols, drop_first=True)\n",
    "\n",
    "train_x = combined_df[:len(train_x_raw)]\n",
    "test_x = combined_df[len(train_x_raw):]\n",
    "\n",
    "# Store dummy variable feature names\n",
    "dummy_variables = list(set(train_x)-set(combined_df_raw))"
   ]
  },
  {
   "cell_type": "markdown",
   "metadata": {},
   "source": [
    "Now let’s apply the Standard Scalar Algorithm on this data to scale the dataset:"
   ]
  },
  {
   "cell_type": "code",
   "execution_count": 27,
   "metadata": {},
   "outputs": [
    {
     "data": {
      "text/plain": [
       "count    1.259730e+05\n",
       "mean     3.916911e-16\n",
       "std      1.000004e+00\n",
       "min     -1.102492e-01\n",
       "25%     -1.102492e-01\n",
       "50%     -1.102492e-01\n",
       "75%     -1.102492e-01\n",
       "max      1.636428e+01\n",
       "dtype: float64"
      ]
     },
     "execution_count": 27,
     "metadata": {},
     "output_type": "execute_result"
    }
   ],
   "source": [
    "# Experimenting with StandardScaler on the single 'duration' feature\n",
    "from sklearn.preprocessing import StandardScaler\n",
    "\n",
    "durations = train_x['duration'].values.reshape(-1, 1)\n",
    "standard_scaler = StandardScaler().fit(durations)\n",
    "scaled_durations = standard_scaler.transform(durations)\n",
    "pd.Series(scaled_durations.flatten()).describe()"
   ]
  },
  {
   "cell_type": "markdown",
   "metadata": {},
   "source": [
    "We can choose to use **MinMaxScaler on StandardScaler** if we want the scaling operation to keep the small standard deviations of the original series, or if we want to keep zero entries in the sparse data. Here’s how MinMaxScaler transforms the duration function:"
   ]
  },
  {
   "cell_type": "code",
   "execution_count": 28,
   "metadata": {},
   "outputs": [
    {
     "data": {
      "text/plain": [
       "count    125973.000000\n",
       "mean          0.006692\n",
       "std           0.060700\n",
       "min           0.000000\n",
       "25%           0.000000\n",
       "50%           0.000000\n",
       "75%           0.000000\n",
       "max           1.000000\n",
       "dtype: float64"
      ]
     },
     "execution_count": 28,
     "metadata": {},
     "output_type": "execute_result"
    }
   ],
   "source": [
    "from sklearn.preprocessing import MinMaxScaler\n",
    "\n",
    "min_max_scaler = MinMaxScaler().fit(durations)\n",
    "min_max_scaled_durations = min_max_scaler.transform(durations)\n",
    "pd.Series(min_max_scaled_durations.flatten()).describe()"
   ]
  },
  {
   "cell_type": "markdown",
   "metadata": {},
   "source": [
    "Outliers in our data can seriously and negatively skew the results of standard scaling and normalization. If the data contains outliers, `sklearn.preprocessing.RobustScaler` will be more suitable for this problem of Network Security. \n",
    "* RobustScaler uses robust estimates such as median and quartile ranges, so it won’t be affected as much by outliers:"
   ]
  },
  {
   "cell_type": "code",
   "execution_count": 29,
   "metadata": {},
   "outputs": [
    {
     "data": {
      "text/plain": [
       "count    125973.00000\n",
       "mean        287.14465\n",
       "std        2604.51531\n",
       "min           0.00000\n",
       "25%           0.00000\n",
       "50%           0.00000\n",
       "75%           0.00000\n",
       "max       42908.00000\n",
       "dtype: float64"
      ]
     },
     "execution_count": 29,
     "metadata": {},
     "output_type": "execute_result"
    }
   ],
   "source": [
    "from sklearn.preprocessing import RobustScaler\n",
    "\n",
    "min_max_scaler = RobustScaler().fit(durations)\n",
    "robust_scaled_durations = min_max_scaler.transform(durations)\n",
    "pd.Series(robust_scaled_durations.flatten()).describe()"
   ]
  },
  {
   "cell_type": "markdown",
   "metadata": {},
   "source": [
    "We complete the data preprocessing phase by standardizing training and test data:"
   ]
  },
  {
   "cell_type": "code",
   "execution_count": 30,
   "metadata": {},
   "outputs": [
    {
     "name": "stderr",
     "output_type": "stream",
     "text": [
      "C:\\ProgramData\\Anaconda3\\lib\\site-packages\\ipykernel_launcher.py:4: SettingWithCopyWarning: \n",
      "A value is trying to be set on a copy of a slice from a DataFrame.\n",
      "Try using .loc[row_indexer,col_indexer] = value instead\n",
      "\n",
      "See the caveats in the documentation: https://pandas.pydata.org/pandas-docs/stable/user_guide/indexing.html#returning-a-view-versus-a-copy\n",
      "  after removing the cwd from sys.path.\n",
      "C:\\ProgramData\\Anaconda3\\lib\\site-packages\\pandas\\core\\indexing.py:1736: SettingWithCopyWarning: \n",
      "A value is trying to be set on a copy of a slice from a DataFrame.\n",
      "Try using .loc[row_indexer,col_indexer] = value instead\n",
      "\n",
      "See the caveats in the documentation: https://pandas.pydata.org/pandas-docs/stable/user_guide/indexing.html#returning-a-view-versus-a-copy\n",
      "  isetter(loc, value[:, i].tolist())\n",
      "C:\\ProgramData\\Anaconda3\\lib\\site-packages\\ipykernel_launcher.py:7: SettingWithCopyWarning: \n",
      "A value is trying to be set on a copy of a slice from a DataFrame.\n",
      "Try using .loc[row_indexer,col_indexer] = value instead\n",
      "\n",
      "See the caveats in the documentation: https://pandas.pydata.org/pandas-docs/stable/user_guide/indexing.html#returning-a-view-versus-a-copy\n",
      "  import sys\n",
      "C:\\ProgramData\\Anaconda3\\lib\\site-packages\\pandas\\core\\indexing.py:1736: SettingWithCopyWarning: \n",
      "A value is trying to be set on a copy of a slice from a DataFrame.\n",
      "Try using .loc[row_indexer,col_indexer] = value instead\n",
      "\n",
      "See the caveats in the documentation: https://pandas.pydata.org/pandas-docs/stable/user_guide/indexing.html#returning-a-view-versus-a-copy\n",
      "  isetter(loc, value[:, i].tolist())\n"
     ]
    }
   ],
   "source": [
    "standard_scaler = StandardScaler().fit(train_x[numeric_cols])\n",
    "\n",
    "train_x[numeric_cols] = \\\n",
    "    standard_scaler.transform(train_x[numeric_cols])\n",
    "\n",
    "test_x[numeric_cols] = \\\n",
    "    standard_scaler.transform(test_x[numeric_cols])"
   ]
  },
  {
   "cell_type": "markdown",
   "metadata": {},
   "source": [
    "### Classification for Network Security Analysis\n",
    "\n",
    "By applying the default or initial best guess parameters to the algorithm, we can quickly get initial classification results for Network Security. While these results may not be close to the accuracy of our goal, they will usually give us a rough indication of the potential of the algorithm."
   ]
  },
  {
   "cell_type": "code",
   "execution_count": 38,
   "metadata": {},
   "outputs": [],
   "source": [
    "from sklearn.tree import DecisionTreeClassifier\n",
    "from sklearn.metrics import confusion_matrix, zero_one_loss\n",
    "classifier = DecisionTreeClassifier(random_state=0)\n",
    "classifier.fit(train_x, train_Y)\n",
    "pred_y = classifier.predict(test_x)\n",
    "results = confusion_matrix(test_Y.astype(str), pred_y)\n",
    "error = zero_one_loss(test_Y.astype(str), pred_y)"
   ]
  },
  {
   "cell_type": "code",
   "execution_count": 39,
   "metadata": {},
   "outputs": [
    {
     "data": {
      "text/plain": [
       "array([[9363,   57,    0,  289,    1,    1],\n",
       "       [ 246, 5426,    0,   69,    0,    0],\n",
       "       [2513,  784,    0,  441,    2,   10],\n",
       "       [   4,    5,    0, 1097,    0,    0],\n",
       "       [2046,    0,    0,   13,  135,    5],\n",
       "       [  28,    0,    0,    0,    3,    6]], dtype=int64)"
      ]
     },
     "execution_count": 39,
     "metadata": {},
     "output_type": "execute_result"
    }
   ],
   "source": [
    "resultsts"
   ]
  },
  {
   "cell_type": "code",
   "execution_count": 40,
   "metadata": {},
   "outputs": [
    {
     "data": {
      "text/plain": [
       "0.28907913413768627"
      ]
     },
     "execution_count": 40,
     "metadata": {},
     "output_type": "execute_result"
    }
   ],
   "source": [
    "error"
   ]
  },
  {
   "cell_type": "markdown",
   "metadata": {},
   "source": [
    "With only a few lines of code and no adjustment at all, a classification accuracy of **71.1% (1 – error rate)** in a five-class classification problem is not too bad. This way we can use the Network Security Analysis to improve the security of our networks."
   ]
  },
  {
   "cell_type": "code",
   "execution_count": null,
   "metadata": {},
   "outputs": [],
   "source": []
  }
 ],
 "metadata": {
  "kernelspec": {
   "display_name": "Python 3",
   "language": "python",
   "name": "python3"
  },
  "language_info": {
   "codemirror_mode": {
    "name": "ipython",
    "version": 3
   },
   "file_extension": ".py",
   "mimetype": "text/x-python",
   "name": "python",
   "nbconvert_exporter": "python",
   "pygments_lexer": "ipython3",
   "version": "3.7.6"
  }
 },
 "nbformat": 4,
 "nbformat_minor": 4
}
