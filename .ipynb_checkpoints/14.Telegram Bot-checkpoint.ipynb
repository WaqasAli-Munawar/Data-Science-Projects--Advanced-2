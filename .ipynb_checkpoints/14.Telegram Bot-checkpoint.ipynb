{
 "cells": [
  {
   "cell_type": "markdown",
   "metadata": {},
   "source": [
    "A bot is a software application programmed to perform certain tasks. The robots are automated and operate according to the instructions without a human to start them. Bots often mimic or replace the behaviour of a human. \n",
    "\n",
    "In this file, we will create a Telegram bot, by using the telegram API."
   ]
  },
  {
   "cell_type": "markdown",
   "metadata": {},
   "source": [
    "To create a Telegram Bot, we need to go through some steps to get a telegram bot API from the **BotFather** account on Telegram. \n",
    "* **BotFather** is simply a Bot which helps in creating more bots by providing a unique API. \n",
    "\n",
    "So before using python to create our Telegram bot, we need to go through some steps to get the API."
   ]
  },
  {
   "cell_type": "markdown",
   "metadata": {},
   "source": [
    "### Steps to Get the Telegram Bot API\n",
    "\n",
    "* First, create an account on telegram if we don’t have an account. \n",
    "* After making an account search for **BotFather**, which is an official telegram bot that provides API to create more bots. \n",
    "* When we will open the chat just write /start and send. \n",
    "* The BatFather will reply with a long text. Without reading the text we can type **Newbot**.\n",
    "* Now it will reply again with a long text, asking about a good name for Telegram bot. We can write any name on it.\n",
    "* Then the next step is to give a username to our bot which should be in a format **Namebot** or **Name_bot**. Main thing to notice in this step is that our username should be a unique one, it should not match any other username all around the world.\n",
    "* After typing a unique username, it will send an API key between a long message. We need to copy that username and get started with Python."
   ]
  },
  {
   "cell_type": "markdown",
   "metadata": {},
   "source": [
    "### Telegram Bot with Python\n",
    "\n",
    "Now, we have the API key to build our telegram bot. The next step is to install a package known as telegram, which can be easily installed by using the **pip** command in our command prompt or terminal –` pip install python-telegram-bot`.\n",
    "\n",
    "After successfully installing the package, now let’s import the required packages and get started to make a Telegram Bot. We only need the telegram package for this task. We will import it and prepare our program to read our API Key:"
   ]
  },
  {
   "cell_type": "code",
   "execution_count": 1,
   "metadata": {},
   "outputs": [
    {
     "name": "stdout",
     "output_type": "stream",
     "text": [
      "Collecting python-telegram-bot\n",
      "  Downloading python_telegram_bot-13.7-py3-none-any.whl (490 kB)\n",
      "Collecting tornado>=6.1\n",
      "  Downloading tornado-6.1-cp37-cp37m-win_amd64.whl (422 kB)\n",
      "Collecting cachetools==4.2.2\n",
      "  Downloading cachetools-4.2.2-py3-none-any.whl (11 kB)\n",
      "Collecting APScheduler==3.6.3\n",
      "  Downloading APScheduler-3.6.3-py2.py3-none-any.whl (58 kB)\n",
      "Requirement already satisfied: pytz>=2018.6 in c:\\programdata\\anaconda3\\lib\\site-packages (from python-telegram-bot) (2019.3)\n",
      "Requirement already satisfied: certifi in c:\\programdata\\anaconda3\\lib\\site-packages (from python-telegram-bot) (2019.11.28)\n",
      "Requirement already satisfied: setuptools>=0.7 in c:\\programdata\\anaconda3\\lib\\site-packages (from APScheduler==3.6.3->python-telegram-bot) (45.2.0.post20200210)\n",
      "Collecting tzlocal>=1.2\n",
      "  Downloading tzlocal-3.0-py3-none-any.whl (16 kB)\n",
      "Requirement already satisfied: six>=1.4.0 in c:\\programdata\\anaconda3\\lib\\site-packages (from APScheduler==3.6.3->python-telegram-bot) (1.15.0)\n",
      "Collecting backports.zoneinfo; python_version < \"3.9\"\n",
      "  Downloading backports.zoneinfo-0.2.1-cp37-cp37m-win_amd64.whl (38 kB)\n",
      "Collecting tzdata; platform_system == \"Windows\"\n",
      "  Downloading tzdata-2021.1-py2.py3-none-any.whl (338 kB)\n",
      "Installing collected packages: tornado, cachetools, backports.zoneinfo, tzdata, tzlocal, APScheduler, python-telegram-bot\n",
      "  Attempting uninstall: tornado\n",
      "    Found existing installation: tornado 6.0.3\n",
      "    Uninstalling tornado-6.0.3:\n",
      "Note: you may need to restart the kernel to use updated packages.\n"
     ]
    },
    {
     "name": "stderr",
     "output_type": "stream",
     "text": [
      "ERROR: Could not install packages due to an EnvironmentError: [WinError 5] Access is denied: 'c:\\\\programdata\\\\anaconda3\\\\lib\\\\site-packages\\\\tornado-6.0.3.dist-info\\\\INSTALLER'\n",
      "Consider using the `--user` option or check the permissions.\n",
      "\n"
     ]
    }
   ],
   "source": [
    "pip install python-telegram-bot"
   ]
  },
  {
   "cell_type": "code",
   "execution_count": null,
   "metadata": {},
   "outputs": [],
   "source": [
    "import telegram\n",
    "bot = telegram.bot(token='TOKEN') #Replace TOKEN with your token string"
   ]
  }
 ],
 "metadata": {
  "kernelspec": {
   "display_name": "Python 3",
   "language": "python",
   "name": "python3"
  },
  "language_info": {
   "codemirror_mode": {
    "name": "ipython",
    "version": 3
   },
   "file_extension": ".py",
   "mimetype": "text/x-python",
   "name": "python",
   "nbconvert_exporter": "python",
   "pygments_lexer": "ipython3",
   "version": "3.7.6"
  }
 },
 "nbformat": 4,
 "nbformat_minor": 4
}
