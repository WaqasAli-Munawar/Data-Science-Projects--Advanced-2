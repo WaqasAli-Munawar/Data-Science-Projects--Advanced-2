{
 "cells": [
  {
   "cell_type": "markdown",
   "metadata": {},
   "source": [
    "An AI Chatbot is one of the most achieved goals in the field of Artificial Intelligence. Today Chatbot can help us in every way from assisting to order something online to guide us through a Business Plan. Every Brand is having an AI Chatbot for their purposes. \n",
    "\n",
    "In this file, we build our own AI Chatbot."
   ]
  },
  {
   "cell_type": "markdown",
   "metadata": {},
   "source": [
    "### What is a Chatbot?\n",
    "\n",
    "A chatbot is an Artificial Intelligence program which is built on the purpose of interacting with a user based on their respective queries. It uses the process of Natural Language for interaction with a user. A chatbot is based on doing the analysis of the question of the user and then returning the response of the user. This is the idea behind a Chatbot."
   ]
  },
  {
   "cell_type": "code",
   "execution_count": 13,
   "metadata": {},
   "outputs": [],
   "source": [
    "# !pip install --ignore-installed PyYAML --user\n",
    "# !pip install chatterbot\n",
    "# !pip install chatterbot_corpus --user"
   ]
  },
  {
   "cell_type": "code",
   "execution_count": 15,
   "metadata": {},
   "outputs": [],
   "source": [
    "from chatterbot import ChatBot\n",
    "from chatterbot.trainers import ListTrainer\n",
    "from chatterbot.trainers import ChatterBotCorpusTrainer"
   ]
  },
  {
   "cell_type": "markdown",
   "metadata": {},
   "source": [
    "This chatbot will be based on some bank queries. To move further let’s make instances:"
   ]
  },
  {
   "cell_type": "code",
   "execution_count": 16,
   "metadata": {},
   "outputs": [],
   "source": [
    "BankBot = ChatBot(name = 'BankBot',read_only = False,\n",
    "                  logic_adapters = [\"chatterbot.logic.BestMatch\"],\n",
    "                  storage_adapter = \"chatterbot.storage.SQLStorageAdapter\")  "
   ]
  },
  {
   "cell_type": "markdown",
   "metadata": {},
   "source": [
    "### Training an AI Chatbot using Data\n",
    "\n",
    "Training our chatbot using data is quite simple. To do that we need to instantiate a `ChatterBotCorpusTrainer` object. It will take the name of our object as a parameter."
   ]
  },
  {
   "cell_type": "code",
   "execution_count": 19,
   "metadata": {},
   "outputs": [
    {
     "name": "stderr",
     "output_type": "stream",
     "text": [
      "C:\\ProgramData\\Anaconda3\\lib\\site-packages\\chatterbot\\corpus.py:59: YAMLLoadWarning: calling yaml.load() without Loader=... is deprecated, as the default Loader is unsafe. Please read https://msg.pyyaml.org/load for full details.\n",
      "  return yaml.load(data_file)\n"
     ]
    },
    {
     "name": "stdout",
     "output_type": "stream",
     "text": [
      "Training ai.yml: [####################] 100%\n",
      "Training botprofile.yml: [####################] 100%\n",
      "Training computers.yml: [####################] 100%\n",
      "Training conversations.yml: [####################] 100%\n",
      "Training emotion.yml: [####################] 100%\n",
      "Training food.yml: [####################] 100%\n",
      "Training gossip.yml: [####################] 100%\n",
      "Training greetings.yml: [####################] 100%\n",
      "Training health.yml: [####################] 100%\n",
      "Training history.yml: [####################] 100%\n",
      "Training humor.yml: [####################] 100%\n",
      "Training literature.yml: [####################] 100%\n",
      "Training money.yml: [####################] 100%\n",
      "Training movies.yml: [####################] 100%\n",
      "Training politics.yml: [####################] 100%\n",
      "Training psychology.yml: [####################] 100%\n",
      "Training science.yml: [####################] 100%\n",
      "Training sports.yml: [####################] 100%\n",
      "Training trivia.yml: [####################] 100%\n"
     ]
    }
   ],
   "source": [
    "corpus_trainer = ChatterBotCorpusTrainer(BankBot)\n",
    "dirname = r\"C:\\Users\\Waqas.Ali\\AppData\\Roaming\\Python\\Python37\\site-packages\\chatterbot_corpus\\data\\english\"\n",
    "corpus_trainer.train(dirname) # corpus_trainer.train(\"chatterbot.corpus.english\")"
   ]
  },
  {
   "cell_type": "markdown",
   "metadata": {},
   "source": [
    "We can also train a chatterbot on our custom instances. We can see how to do this below:"
   ]
  },
  {
   "cell_type": "code",
   "execution_count": 21,
   "metadata": {},
   "outputs": [],
   "source": [
    "greet_conversation = [\"Hello\",\"Hi there!\",\"How are you doing?\",\"I'm doing great.\",\"That is good to hear\", \n",
    "                      \"Thank you.\",\"You're welcome.\"]\n",
    "\n",
    "open_timings_conversation = [\"What time does the Bank open?\",\"The Bank opens at 9AM\"]\n",
    "    \n",
    "close_timings_conversation = [\"What time does the Bank close?\", \"The Bank closes at 5PM\"]"
   ]
  },
  {
   "cell_type": "code",
   "execution_count": 22,
   "metadata": {},
   "outputs": [
    {
     "name": "stdout",
     "output_type": "stream",
     "text": [
      "List Trainer: [####################] 100%\n",
      "List Trainer: [####################] 100%\n",
      "List Trainer: [####################] 100%\n"
     ]
    }
   ],
   "source": [
    "#Initializing Trainer Object\n",
    "trainer = ListTrainer(BankBot)\n",
    "\n",
    "#Training BankBot\n",
    "trainer.train(greet_conversation)\n",
    "trainer.train(open_timings_conversation)\n",
    "trainer.train(close_timings_conversation)"
   ]
  },
  {
   "cell_type": "markdown",
   "metadata": {},
   "source": [
    "### Run The ChatBot\n",
    "\n",
    "Once we have trained a chatterbot using our instances, we can run this by building a simple front-end."
   ]
  },
  {
   "cell_type": "code",
   "execution_count": 24,
   "metadata": {},
   "outputs": [
    {
     "name": "stdout",
     "output_type": "stream",
     "text": [
      "hi\n",
      "How are you doing?\n",
      "I am good\n",
      "Artificial Intelligence is the branch of engineering and science devoted to constructing machines that think.\n",
      "quit\n"
     ]
    }
   ],
   "source": [
    "while (True):\n",
    "    user_input = input()\n",
    "    if (user_input == 'quit'):\n",
    "        break\n",
    "    response = BankBot.get_response(user_input)\n",
    "    print (response)"
   ]
  },
  {
   "cell_type": "markdown",
   "metadata": {},
   "source": [
    "This was just a simple AI Chatbot; It was only to provide us knowledge on how to use instances and make our list of questions on which we can quickly run it. We can make a better one by adding more instances to our list. The process will remain the same to keep adding cases to make our chatbot even smarter."
   ]
  },
  {
   "cell_type": "markdown",
   "metadata": {},
   "source": [
    "Sometimes the chatbots like this can give mistakes while running because of the lack of proper training data. An excellent approach to make a better AI Chatbot is by using the training data provided by **Google, Amazon and Microsoft**. We can use any training data, make sure we follow the same process as above."
   ]
  },
  {
   "cell_type": "code",
   "execution_count": null,
   "metadata": {},
   "outputs": [],
   "source": []
  }
 ],
 "metadata": {
  "kernelspec": {
   "display_name": "Python 3",
   "language": "python",
   "name": "python3"
  },
  "language_info": {
   "codemirror_mode": {
    "name": "ipython",
    "version": 3
   },
   "file_extension": ".py",
   "mimetype": "text/x-python",
   "name": "python",
   "nbconvert_exporter": "python",
   "pygments_lexer": "ipython3",
   "version": "3.7.6"
  }
 },
 "nbformat": 4,
 "nbformat_minor": 4
}
